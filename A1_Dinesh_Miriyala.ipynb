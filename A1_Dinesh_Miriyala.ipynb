{
  "cells": [
    {
      "cell_type": "markdown",
      "metadata": {
        "id": "view-in-github",
        "colab_type": "text"
      },
      "source": [
        "<a href=\"https://colab.research.google.com/github/dineshmiriyala/dineshmiriyala/blob/ALY6140/A1_Dinesh_Miriyala.ipynb\" target=\"_parent\"><img src=\"https://colab.research.google.com/assets/colab-badge.svg\" alt=\"Open In Colab\"/></a>"
      ]
    },
    {
      "cell_type": "markdown",
      "metadata": {
        "id": "1tbd5bqIXeJy"
      },
      "source": [
        "# Week 1 Assignment\n",
        "\n",
        "* Download the \"__A1_2022FallA.ipynb__\" notebook file \n",
        "* Fill in the code in the cells marked with `# YOUR ANSWER HERE:` by answering the question/task defined in the cell above it starting with `GRADED:`\n",
        "* `VERY IMPORTANT`: Code cells outside of `# YOUR ANSWER HERE:` will not be considered for grading. \n",
        "  * Feel free to write outside of it for debugging\n",
        "* `DO NOT` fill your asnwers with many `print` statements. Only use `print` if the assignment asked explcitly. For example, if you are asked to write a function to calculate the sum of two numbers--the function should return that value, `NOT` a `print` statement of the value.\n",
        "* Submit the updated notebook\n",
        "  * Make sure to save your changes before submitting it!\n",
        "  * Make sure to rename your file as __A1_FirstName_LastName.ipynb__"
      ]
    },
    {
      "cell_type": "markdown",
      "metadata": {
        "id": "PEuZPn7jXeJz"
      },
      "source": [
        "#Import necessary libraries\n",
        "import pandas as pd\n",
        "import numpy as np"
      ]
    },
    {
      "cell_type": "code",
      "execution_count": 1,
      "metadata": {
        "id": "odHnjkfWXeJ0"
      },
      "outputs": [],
      "source": [
        "import numpy as np\n",
        "import pandas as pd"
      ]
    },
    {
      "cell_type": "markdown",
      "metadata": {
        "id": "fcv4wg7HXeJ0"
      },
      "source": [
        "## `GRADED [1]`: \n",
        "Provided below are functions that are:\n",
        "- completely defined: `add_numbers`;\n",
        "- partially defined: `add_square_roots`; _and_\n",
        "- not defined at all: `product_mixed`\n",
        "\n",
        " 1. Complete `add_square_roots` so that it returns the sum of (square root of `a` and square root of `b`)\n",
        " 2. Write a function called `product_mixed` that returns the product of (`a`, the square root of `b`, and the cube root of `c`).\n",
        " \n",
        " If the return value is not a whole number, please round it to __1 decimal place__."
      ]
    },
    {
      "cell_type": "code",
      "execution_count": 10,
      "metadata": {
        "id": "XjrNCgonXeJ1"
      },
      "outputs": [],
      "source": [
        "# [1] YOUR ANSWER HERE:\n",
        "def add_numbers(x, y):\n",
        "    result = x + y\n",
        "    return result\n",
        "\n",
        "def add_square_roots(a, b):\n",
        "    # Write code to return the sum of square root of a and square root of b\n",
        "    result = ((a**(1/2))+(b**(1/2)))\n",
        "    return result\n",
        "\n",
        "def product_mixed(a,b,c):\n",
        "    return (a + (b**(1/2)) + (c**(1/3)) )"
      ]
    },
    {
      "cell_type": "code",
      "execution_count": 11,
      "metadata": {
        "colab": {
          "base_uri": "https://localhost:8080/"
        },
        "id": "uWMt9drIXeJ1",
        "outputId": "9a468b2f-5bc7-4d02-fa90-1e3a05a0c98a"
      },
      "outputs": [
        {
          "output_type": "stream",
          "name": "stdout",
          "text": [
            "5\n",
            "3.1462643699419726\n",
            "5.414213562373095\n"
          ]
        }
      ],
      "source": [
        "# please do not modify this cell\n",
        "print(add_numbers(2, 3))\n",
        "print(add_square_roots(2, 3))\n",
        "print(product_mixed(1, 2, 27))"
      ]
    },
    {
      "cell_type": "markdown",
      "metadata": {
        "collapsed": true,
        "id": "8k7eqMxWXeJ1"
      },
      "source": [
        "## `GRADED [2]`: \n",
        "- Use a `for` loop: loop over between `2` and `167` (__`inclusive`__) and save all the prime numbers in a list called `prime_lst`; \n",
        "\n",
        "- Find all the cousin primes in `prime_lst`. Please print all the cousin prime pairs and show how many pairs you have found.\n",
        "\n",
        "Hint: a pair of cousin primes is a pair of two prime numbers with a gap of four, for example (43,47) is a pair of cousin primes, while (3, 5) is not."
      ]
    },
    {
      "cell_type": "code",
      "execution_count": 54,
      "metadata": {
        "colab": {
          "base_uri": "https://localhost:8080/"
        },
        "id": "XG9mXOteXeJ1",
        "outputId": "b1766154-adca-48f7-ae42-9d5fea74e7a5"
      },
      "outputs": [
        {
          "output_type": "stream",
          "name": "stdout",
          "text": [
            "( 3 , 7 )\n",
            "( 13 , 17 )\n",
            "( 19 , 23 )\n",
            "( 37 , 41 )\n",
            "( 43 , 47 )\n",
            "( 67 , 71 )\n",
            "( 79 , 83 )\n",
            "( 97 , 101 )\n",
            "( 103 , 107 )\n",
            "( 109 , 113 )\n",
            "( 127 , 131 )\n",
            "( 163 , 167 )\n"
          ]
        }
      ],
      "source": [
        "prime_lst = []\n",
        "for n in range(2,168):\n",
        "    flag = False\n",
        "    for i in range(2, int((n**(1/2)) + 1)):\n",
        "        if (n%i == 0):\n",
        "          flag = True\n",
        "          break\n",
        "    if not flag:\n",
        "      prime_lst.append(n)\n",
        "dict = {}\n",
        "for i,j in enumerate(prime_lst):\n",
        "    if j-4 in dict:\n",
        "         print(\"(\",prime_lst[dict[j-4]],\",\",prime_lst[i],\")\")\n",
        "    else:\n",
        "        dict[j] = i"
      ]
    },
    {
      "cell_type": "markdown",
      "metadata": {
        "id": "AZiZcAFxXeJ2"
      },
      "source": [
        "## `GRADED [3]`: \n",
        "Define a function called `distanceConverter` that takes a distance in `miles` as an argument and __prints__ the equivalent distance in `kilometers` using the following sentence: `Original distance is [..] miles, which equals to [..] kilometers.`\n",
        "\n",
        "Please round your results to __2 decimal place__."
      ]
    },
    {
      "cell_type": "code",
      "execution_count": 14,
      "metadata": {
        "id": "C-3jtB1iXeJ2"
      },
      "outputs": [],
      "source": [
        "def distanceConverter(a):\n",
        "    return (round(a*1.6 , 2))"
      ]
    },
    {
      "cell_type": "code",
      "execution_count": 15,
      "metadata": {
        "colab": {
          "base_uri": "https://localhost:8080/"
        },
        "id": "5t-A_DaiXeJ2",
        "outputId": "6aa3262d-592c-4af2-e7c1-14966b75be12"
      },
      "outputs": [
        {
          "output_type": "execute_result",
          "data": {
            "text/plain": [
              "8.0"
            ]
          },
          "metadata": {},
          "execution_count": 15
        }
      ],
      "source": [
        "# please do not modify this cell\n",
        "distanceConverter(5) "
      ]
    },
    {
      "cell_type": "markdown",
      "metadata": {
        "id": "dawuI_LnXeJ2"
      },
      "source": [
        "## `GRADED [4]`: \n",
        "According to the Gregorian calendar, there are 4 months that are 30 days long and 7 months that are 31 days long. February is the only month that is 28 days long in common years and 29 days long in leap years. We will ignore the leap year in this homework.\n",
        "\n",
        "Based on a given dictionary `day2Month`, please build a new dictionary `month2Day` with month as key, while number of days as value. For example, the 2nd month of the year can be represented as \"February\":28"
      ]
    },
    {
      "cell_type": "code",
      "execution_count": 22,
      "metadata": {
        "id": "crjEdNBGXeJ3"
      },
      "outputs": [],
      "source": [
        "# [4] YOUR ANSWER HERE:\n",
        "\n",
        "day2Month = {\n",
        "    31: ['January', 'March', 'May', 'July', 'August', 'October', 'December'],\n",
        "    30: ['April', 'June', 'September', 'November'],\n",
        "    28: ['February']    \n",
        "}\n",
        "month2Day = {\n",
        "    'January':31, 'March' :31, 'May' :31, 'July' :31, 'August' :31, 'October' :31, 'December' :31, 'April' :30, 'June' :30, 'September' :30, 'November' :30,\n",
        "    'February' :28\n",
        "}"
      ]
    },
    {
      "cell_type": "code",
      "execution_count": 23,
      "metadata": {
        "colab": {
          "base_uri": "https://localhost:8080/",
          "height": 69
        },
        "id": "dbFPBiYMXeJ3",
        "outputId": "fa59fe6d-9b79-4ebe-ebf5-852b8e2fca10"
      },
      "outputs": [
        {
          "output_type": "display_data",
          "data": {
            "text/plain": [
              "31"
            ]
          },
          "metadata": {}
        },
        {
          "output_type": "display_data",
          "data": {
            "text/plain": [
              "30"
            ]
          },
          "metadata": {}
        },
        {
          "output_type": "display_data",
          "data": {
            "text/plain": [
              "28"
            ]
          },
          "metadata": {}
        }
      ],
      "source": [
        "# please do not modify this cell\n",
        "display(month2Day['October']) \n",
        "display(month2Day['September']) \n",
        "display(month2Day['February'])"
      ]
    },
    {
      "cell_type": "markdown",
      "metadata": {
        "id": "ITXPqkH6XeJ3"
      },
      "source": [
        "## `GRADED [5]`: \n",
        "- Please use code to find the first 8 prime numbers and store them in a list `prime_lst2`\n",
        "\n",
        "- Please evaluate the result of $M_n = P_1*P_2*P_3*...P_n + 311$ when $n = 2,4,6,8$ wheter it is a prime number or not.\n",
        "$P_i$ is ith prime number\n",
        "\n",
        "Hint: \n",
        "\n",
        "n = 2, $M_2 = P_1 * P_2 + 311 = 2 * 3 + 311 = 317$, True\n",
        "\n",
        "n = 4, ..., True or False?\n",
        "\n",
        "n = 6, ..., True or False?\n",
        "\n",
        "n = 8, $M_8 = P_1*P_2*P_3*...P_8 + 311 = 2 * 3 * 5 * 7 * 11 * 13 * 17 * 19 + 311 $, True or False?"
      ]
    },
    {
      "cell_type": "code",
      "execution_count": 67,
      "metadata": {
        "colab": {
          "base_uri": "https://localhost:8080/"
        },
        "id": "godVosO5XeJ3",
        "outputId": "f68aaf9c-1cbf-4496-fec8-2c7a160130a2"
      },
      "outputs": [
        {
          "output_type": "stream",
          "name": "stdout",
          "text": [
            "n= 1 , True\n",
            "n= 2 , True\n",
            "n= 3 , False\n",
            "n= 4 , True\n",
            "n= 5 , True\n",
            "n= 6 , True\n",
            "n= 7 , False\n",
            "n= 8 , False\n"
          ]
        }
      ],
      "source": [
        "def ifprime(n):\n",
        "  flag = False\n",
        "  for i in range(2, int((n**(1/2)) + 1)):\n",
        "        if (n%i == 0):\n",
        "          flag = True\n",
        "          break\n",
        "  if not flag:\n",
        "     return True\n",
        "  return False\n",
        "prime_lst2 = []\n",
        "n = 2\n",
        "while len(prime_lst2) < 8:\n",
        "    if ifprime(n):\n",
        "      prime_lst2.append(n)\n",
        "    n+=1\n",
        "buffer = 1\n",
        "count = 1\n",
        "for i in prime_lst2:\n",
        "  buffer*=i\n",
        "  print(\"n=\",count,\",\",ifprime(buffer+311))\n",
        "  count+=1"
      ]
    }
  ],
  "metadata": {
    "kernelspec": {
      "display_name": "Python 3",
      "language": "python",
      "name": "python3"
    },
    "language_info": {
      "codemirror_mode": {
        "name": "ipython",
        "version": 3
      },
      "file_extension": ".py",
      "mimetype": "text/x-python",
      "name": "python",
      "nbconvert_exporter": "python",
      "pygments_lexer": "ipython3",
      "version": "3.7.6"
    },
    "colab": {
      "provenance": [],
      "collapsed_sections": [],
      "include_colab_link": true
    }
  },
  "nbformat": 4,
  "nbformat_minor": 0
}